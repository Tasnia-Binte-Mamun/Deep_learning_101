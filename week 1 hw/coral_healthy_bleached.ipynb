{
  "metadata": {
    "kernelspec": {
      "language": "python",
      "display_name": "Python 3",
      "name": "python3"
    },
    "language_info": {
      "name": "python",
      "version": "3.10.10",
      "mimetype": "text/x-python",
      "codemirror_mode": {
        "name": "ipython",
        "version": 3
      },
      "pygments_lexer": "ipython3",
      "nbconvert_exporter": "python",
      "file_extension": ".py"
    },
    "colab": {
      "provenance": []
    }
  },
  "nbformat_minor": 0,
  "nbformat": 4,
  "cells": [
    {
      "cell_type": "code",
      "source": [
        "import numpy as np\n",
        "import tensorflow as tf\n",
        "from tensorflow.keras.datasets import cifar10     \n",
        "from tensorflow.keras.preprocessing.image import ImageDataGenerator  \n",
        "import glob   \n",
        "import cv2   \n",
        "import matplotlib.pyplot as plt\n",
        "from sklearn.model_selection import train_test_split"
      ],
      "metadata": {
        "execution": {
          "iopub.status.busy": "2023-06-11T14:44:26.406510Z",
          "iopub.execute_input": "2023-06-11T14:44:26.406897Z",
          "iopub.status.idle": "2023-06-11T14:44:36.477519Z",
          "shell.execute_reply.started": "2023-06-11T14:44:26.406868Z",
          "shell.execute_reply": "2023-06-11T14:44:36.476313Z"
        },
        "trusted": true,
        "id": "PbLYQ-ofyF3Q"
      },
      "execution_count": null,
      "outputs": []
    },
    {
      "cell_type": "code",
      "source": [
        "!pip install opencv-python"
      ],
      "metadata": {
        "execution": {
          "iopub.status.busy": "2023-06-11T14:44:36.479651Z",
          "iopub.execute_input": "2023-06-11T14:44:36.480857Z",
          "iopub.status.idle": "2023-06-11T14:45:10.480639Z",
          "shell.execute_reply.started": "2023-06-11T14:44:36.480825Z",
          "shell.execute_reply": "2023-06-11T14:45:10.479363Z"
        },
        "trusted": true,
        "id": "1_J_W89DyF3S"
      },
      "execution_count": null,
      "outputs": []
    },
    {
      "cell_type": "code",
      "source": [
        "image = cv2.imread('/kaggle/input/healthy-and-bleached-corals-image-classification/healthy_corals/1007788673_ced6bb5451_o.jpg',cv2.IMREAD_GRAYSCALE)\n"
      ],
      "metadata": {
        "execution": {
          "iopub.status.busy": "2023-06-11T14:45:10.482021Z",
          "iopub.execute_input": "2023-06-11T14:45:10.482364Z",
          "iopub.status.idle": "2023-06-11T14:45:10.523393Z",
          "shell.execute_reply.started": "2023-06-11T14:45:10.482334Z",
          "shell.execute_reply": "2023-06-11T14:45:10.522412Z"
        },
        "trusted": true,
        "colab": {
          "base_uri": "https://localhost:8080/",
          "height": 186
        },
        "id": "nxQaiyxPyF3U",
        "outputId": "c0dbc41a-61ed-43b1-827a-64ce3acb14c3"
      },
      "execution_count": 1,
      "outputs": [
        {
          "output_type": "error",
          "ename": "NameError",
          "evalue": "ignored",
          "traceback": [
            "\u001b[0;31m---------------------------------------------------------------------------\u001b[0m",
            "\u001b[0;31mNameError\u001b[0m                                 Traceback (most recent call last)",
            "\u001b[0;32m<ipython-input-1-9f57de6991a4>\u001b[0m in \u001b[0;36m<cell line: 1>\u001b[0;34m()\u001b[0m\n\u001b[0;32m----> 1\u001b[0;31m \u001b[0mimage\u001b[0m \u001b[0;34m=\u001b[0m \u001b[0mcv2\u001b[0m\u001b[0;34m.\u001b[0m\u001b[0mimread\u001b[0m\u001b[0;34m(\u001b[0m\u001b[0;34m'/kaggle/input/healthy-and-bleached-corals-image-classification/healthy_corals/1007788673_ced6bb5451_o.jpg'\u001b[0m\u001b[0;34m,\u001b[0m\u001b[0mcv2\u001b[0m\u001b[0;34m.\u001b[0m\u001b[0mIMREAD_GRAYSCALE\u001b[0m\u001b[0;34m)\u001b[0m\u001b[0;34m\u001b[0m\u001b[0;34m\u001b[0m\u001b[0m\n\u001b[0m\u001b[1;32m      2\u001b[0m \u001b[0;31m#The image is read in grayscale format.\u001b[0m\u001b[0;34m\u001b[0m\u001b[0;34m\u001b[0m\u001b[0m\n",
            "\u001b[0;31mNameError\u001b[0m: name 'cv2' is not defined"
          ]
        }
      ]
    },
    {
      "cell_type": "code",
      "source": [
        "image.shape  "
      ],
      "metadata": {
        "execution": {
          "iopub.status.busy": "2023-06-11T14:45:10.524857Z",
          "iopub.execute_input": "2023-06-11T14:45:10.525524Z",
          "iopub.status.idle": "2023-06-11T14:45:10.534517Z",
          "shell.execute_reply.started": "2023-06-11T14:45:10.525489Z",
          "shell.execute_reply": "2023-06-11T14:45:10.533202Z"
        },
        "trusted": true,
        "id": "ultjF2rIyF3U"
      },
      "execution_count": null,
      "outputs": []
    },
    {
      "cell_type": "code",
      "source": [
        "plt.imshow(image)   "
      ],
      "metadata": {
        "execution": {
          "iopub.status.busy": "2023-06-11T14:45:10.538482Z",
          "iopub.execute_input": "2023-06-11T14:45:10.539008Z",
          "iopub.status.idle": "2023-06-11T14:45:11.024655Z",
          "shell.execute_reply.started": "2023-06-11T14:45:10.538935Z",
          "shell.execute_reply": "2023-06-11T14:45:11.023360Z"
        },
        "trusted": true,
        "id": "FeDjuuBhyF3V"
      },
      "execution_count": null,
      "outputs": []
    },
    {
      "cell_type": "code",
      "source": [
        "## import matplotlib.pyplot as plt\n",
        "import glob\n",
        "import librosa     \n",
        "import numpy as np\n",
        "import cv2 \n",
        "bleached_corals = glob.glob('/kaggle/input/healthy-and-bleached-corals-image-classification/bleached_corals/*.jpg')\n",
        "healthy_corals = glob.glob('/kaggle/input/healthy-and-bleached-corals-image-classification/healthy_corals/*.jpg')\n",
        "\n",
        "\n",
        "data = []  \n",
        "labels = []\n",
        "\n",
        "image_size=(32,32) \n",
        "\n",
        "for i in bleached_corals:   \n",
        "    image = cv2.imread(i,cv2.IMREAD_GRAYSCALE)\n",
        "    # Resize the image\n",
        "    image = cv2.resize(image, image_size)\n",
        "\n",
        "    data.append(image)\n",
        "    labels.append(0)     \n",
        "\n",
        "for i in healthy_corals:   \n",
        "    image = cv2.imread(i,cv2.IMREAD_GRAYSCALE)\n",
        "    # Resize the image\n",
        "    image = cv2.resize(image, image_size)\n",
        "\n",
        "    data.append(image)\n",
        "    labels.append(1)\n",
        "    \n",
        "    \n",
        "X=np.array(data)  \n",
        "y=np.array(labels)  \n",
        "y.shape \n"
      ],
      "metadata": {
        "execution": {
          "iopub.status.busy": "2023-06-11T15:20:08.868261Z",
          "iopub.execute_input": "2023-06-11T15:20:08.868658Z",
          "iopub.status.idle": "2023-06-11T15:20:10.538182Z",
          "shell.execute_reply.started": "2023-06-11T15:20:08.868628Z",
          "shell.execute_reply": "2023-06-11T15:20:10.537046Z"
        },
        "trusted": true,
        "id": "qPzPc9ZnyF3V"
      },
      "execution_count": null,
      "outputs": []
    },
    {
      "cell_type": "code",
      "source": [
        "# Perform train-test split\n",
        "X_train, X_test, y_train, y_test = train_test_split(X, y, test_size=0.2, random_state=32)\n",
        "\n",
        "# Perform train-validation split\n",
        "X_train, X_val, y_train, y_val = train_test_split(X_train, y_train, test_size=0.2, random_state=32)"
      ],
      "metadata": {
        "execution": {
          "iopub.status.busy": "2023-06-11T16:42:11.292751Z",
          "iopub.execute_input": "2023-06-11T16:42:11.293177Z",
          "iopub.status.idle": "2023-06-11T16:42:11.301909Z",
          "shell.execute_reply.started": "2023-06-11T16:42:11.293145Z",
          "shell.execute_reply": "2023-06-11T16:42:11.300677Z"
        },
        "trusted": true,
        "id": "IV5Za-qtyF3V"
      },
      "execution_count": null,
      "outputs": []
    },
    {
      "cell_type": "code",
      "source": [
        "# Build the MLP model\n",
        "model = tf.keras.models.Sequential([\n",
        "    tf.keras.layers.Flatten(input_shape=(32,32)), # reshapes the input into a 1D array of size 32*32=1024.\n",
        "    tf.keras.layers.Dense(units=64, activation='relu'),\n",
        "    tf.keras.layers.Dense(units=1, activation='sigmoid')\n",
        "])\n",
        "\n",
        "# Compile the model\n",
        "model.compile(optimizer='adam', loss='binary_crossentropy', metrics=['accuracy'])\n",
        "\n",
        "# Train the model\n",
        "# Train the model\n",
        "model.fit(X_train, y_train,validation_data=(X_val,y_val),epochs=10, batch_size=32)\n",
        "\n",
        "# Evaluate the model\n",
        "loss, accuracy = model.evaluate(X_test, y_test)\n",
        "print(f\"Test loss: {loss:.4f}\")\n",
        "print(f\"Test accuracy: {accuracy:.4f}\")\n",
        "\n",
        "# Make predictions on new images\n",
        "predictions = model.predict(X_test[:10])  \n",
        "print('predictions')\n",
        "print(predictions)\n",
        "predicted_classes = np.argmax(predictions, axis=1)\n",
        "print('predicted_classes')\n",
        "print(predicted_classes)\n",
        "\n",
        "\n",
        "# Print the predicted class and corresponding true class\n",
        "for i in range(len(predicted_classes)):\n",
        "    print(f\"Predicted class: {predicted_classes[i]}, True class: {np.argmax(y_test[i])}\")"
      ],
      "metadata": {
        "execution": {
          "iopub.status.busy": "2023-06-11T15:41:58.561478Z",
          "iopub.execute_input": "2023-06-11T15:41:58.561879Z",
          "iopub.status.idle": "2023-06-11T15:42:00.466555Z",
          "shell.execute_reply.started": "2023-06-11T15:41:58.561852Z",
          "shell.execute_reply": "2023-06-11T15:42:00.465552Z"
        },
        "trusted": true,
        "id": "WPTKtD2NyF3W"
      },
      "execution_count": null,
      "outputs": []
    },
    {
      "cell_type": "code",
      "source": [
        "# Build the MLP model\n",
        "model = tf.keras.models.Sequential([\n",
        "    tf.keras.layers.Flatten(input_shape=(32,32)),\n",
        "    tf.keras.layers.Dense(units=64, activation='relu'),\n",
        "    tf.keras.layers.Dense(units=2, activation='softmax')\n",
        "])\n",
        "\n",
        "# Compile the model\n",
        "model.compile(optimizer='adam', loss='sparse_categorical_crossentropy', metrics=['accuracy'])\n",
        "\n",
        "# Train the model\n",
        "# Train the model\n",
        "model.fit(X_train, y_train,validation_data=(X_val,y_val),epochs=10, batch_size=32)\n",
        "\n",
        "# Evaluate the model\n",
        "loss, accuracy = model.evaluate(X_test, y_test)\n",
        "print(f\"Test loss: {loss:.4f}\")\n",
        "print(f\"Test accuracy: {accuracy:.4f}\")\n",
        "\n",
        "# Make predictions on new images\n",
        "predictions = model.predict(X_test[:10])\n",
        "predicted_classes = np.argmax(predictions, axis=1)\n",
        "\n",
        "# Print the predicted class and corresponding true class\n",
        "for i in range(len(predicted_classes)):\n",
        "    print(f\"Predicted class: {predicted_classes[i]}, True class: {np.argmax(y_test[i])}\")"
      ],
      "metadata": {
        "execution": {
          "iopub.status.busy": "2023-06-11T14:45:23.275540Z",
          "iopub.execute_input": "2023-06-11T14:45:23.276029Z",
          "iopub.status.idle": "2023-06-11T14:45:25.386132Z",
          "shell.execute_reply.started": "2023-06-11T14:45:23.275965Z",
          "shell.execute_reply": "2023-06-11T14:45:25.384885Z"
        },
        "trusted": true,
        "id": "zegL_BLqyF3X"
      },
      "execution_count": null,
      "outputs": []
    },
    {
      "cell_type": "markdown",
      "source": [
        "**Optimize the model to get at least 70% accuray .you may play with** \n",
        "1.   Dynamic learning rate\n",
        "2.   Save model \n",
        "3.   Early stopping \n",
        "4.   Drop-Out** \n",
        "**for getting higher accuracy**\n"
      ],
      "metadata": {
        "id": "lJrfBnAGyF3Y"
      }
    },
    {
      "cell_type": "code",
      "source": [
        "from tensorflow.keras.callbacks import ModelCheckpoint, EarlyStopping\n",
        "\n",
        "# Build the MLP model\n",
        "model = tf.keras.models.Sequential([\n",
        "    tf.keras.layers.Flatten(input_shape=(32,32)), \n",
        "    tf.keras.layers.Dense(units=600, activation='relu'),\n",
        "    tf.keras.layers.Dense(units=400, activation='relu'),\n",
        "    tf.keras.layers.Dense(units=450, activation='relu'),\n",
        "    tf.keras.layers.Dense(units=300, activation='relu'),\n",
        "    tf.keras.layers.Dense(units=375, activation='relu'),\n",
        "    tf.keras.layers.Dense(units=1, activation='sigmoid')\n",
        "])\n",
        "\n",
        "# Compile the model\n",
        "model.compile(optimizer='adam', loss='binary_crossentropy', metrics=['accuracy'])\n",
        "\n",
        "lr_callback = tf.keras.callbacks.ReduceLROnPlateau(\n",
        "    monitor='val_loss',   # Monitor validation loss for learning rate reduction\n",
        "    factor=0.1,            # Reduce learning rate by a factor of 0.1\n",
        "    patience=5,            # Number of epochs with no improvement after which learning rate will be reduced\n",
        "    min_lr=1e-6            # Minimum learning rate\n",
        ")\n",
        "\n",
        "# Define the model checkpoint callback to save the best model\n",
        "checkpoint_callback = ModelCheckpoint('best_model.h5', monitor='val_loss', save_best_only=True)\n",
        "\n",
        "# Define the early stopping callback to stop training if validation loss does not improve\n",
        "early_stopping_callback = EarlyStopping(monitor='val_loss', patience=5)\n",
        "\n",
        "# Train the model with the learning rate reduction callback\n",
        "model.fit(X_train, y_train,validation_data=(X_val,y_val),epochs=15, batch_size=32,callbacks=[lr_callback,checkpoint_callback,early_stopping_callback])\n",
        "\n",
        "# Evaluate the model\n",
        "best_model = tf.keras.models.load_model('best_model.h5')\n",
        "loss, accuracy = best_model.evaluate(X_test, y_test)\n",
        "\n",
        "print(f\"Test loss: {loss:.4f}\")\n",
        "print(f\"Test accuracy: {accuracy:.4f}\")\n",
        "\n"
      ],
      "metadata": {
        "execution": {
          "iopub.status.busy": "2023-06-11T18:07:55.718756Z",
          "iopub.execute_input": "2023-06-11T18:07:55.719208Z",
          "iopub.status.idle": "2023-06-11T18:08:00.651824Z",
          "shell.execute_reply.started": "2023-06-11T18:07:55.719172Z",
          "shell.execute_reply": "2023-06-11T18:08:00.650619Z"
        },
        "trusted": true,
        "id": "q1KOLeaDyF3Y",
        "outputId": "52e65215-33c4-42fa-8d30-51167d35b7f4"
      },
      "execution_count": null,
      "outputs": [
        {
          "name": "stdout",
          "text": "Epoch 1/15\n19/19 [==============================] - 2s 28ms/step - loss: 21.8097 - accuracy: 0.5263 - val_loss: 18.4767 - val_accuracy: 0.5270 - lr: 0.0010\nEpoch 2/15\n19/19 [==============================] - 0s 19ms/step - loss: 4.8462 - accuracy: 0.5416 - val_loss: 1.4218 - val_accuracy: 0.5270 - lr: 0.0010\nEpoch 3/15\n19/19 [==============================] - 0s 18ms/step - loss: 0.8753 - accuracy: 0.5246 - val_loss: 0.6834 - val_accuracy: 0.5541 - lr: 0.0010\nEpoch 4/15\n19/19 [==============================] - 0s 17ms/step - loss: 0.6759 - accuracy: 0.6027 - val_loss: 0.6512 - val_accuracy: 0.5946 - lr: 0.0010\nEpoch 5/15\n19/19 [==============================] - 0s 15ms/step - loss: 0.6547 - accuracy: 0.6265 - val_loss: 0.6731 - val_accuracy: 0.5811 - lr: 0.0010\nEpoch 6/15\n19/19 [==============================] - 0s 14ms/step - loss: 0.6273 - accuracy: 0.6282 - val_loss: 0.7560 - val_accuracy: 0.5676 - lr: 0.0010\nEpoch 7/15\n19/19 [==============================] - 0s 15ms/step - loss: 0.5846 - accuracy: 0.6791 - val_loss: 0.8677 - val_accuracy: 0.5541 - lr: 0.0010\nEpoch 8/15\n19/19 [==============================] - 0s 20ms/step - loss: 0.6374 - accuracy: 0.6282 - val_loss: 0.6851 - val_accuracy: 0.5743 - lr: 0.0010\nEpoch 9/15\n19/19 [==============================] - 0s 14ms/step - loss: 0.6085 - accuracy: 0.6570 - val_loss: 0.6924 - val_accuracy: 0.5743 - lr: 0.0010\n6/6 [==============================] - 0s 5ms/step - loss: 0.6338 - accuracy: 0.6486\nTest loss: 0.6338\nTest accuracy: 0.6486\n",
          "output_type": "stream"
        }
      ]
    },
    {
      "cell_type": "code",
      "source": [],
      "metadata": {
        "execution": {
          "iopub.status.busy": "2023-06-11T17:12:32.398123Z",
          "iopub.execute_input": "2023-06-11T17:12:32.399433Z",
          "iopub.status.idle": "2023-06-11T17:12:32.483543Z",
          "shell.execute_reply.started": "2023-06-11T17:12:32.399387Z",
          "shell.execute_reply": "2023-06-11T17:12:32.482420Z"
        },
        "trusted": true,
        "id": "CnCLI0y6yF3Z"
      },
      "execution_count": null,
      "outputs": []
    }
  ]
}